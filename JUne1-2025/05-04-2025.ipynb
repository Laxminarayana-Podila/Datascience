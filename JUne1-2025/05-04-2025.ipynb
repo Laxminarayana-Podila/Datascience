{
 "cells": [
  {
   "cell_type": "markdown",
   "id": "2525f531",
   "metadata": {},
   "source": [
    "# numpy math operations"
   ]
  },
  {
   "cell_type": "code",
   "execution_count": 1,
   "id": "c7738f20",
   "metadata": {},
   "outputs": [
    {
     "data": {
      "text/plain": [
       "[1, 2, 3, 4, 5, 6]"
      ]
     },
     "execution_count": 1,
     "metadata": {},
     "output_type": "execute_result"
    }
   ],
   "source": [
    "a = [1,2,3]\n",
    "b = [4,5,6]\n",
    "\n",
    "a + b"
   ]
  },
  {
   "cell_type": "code",
   "execution_count": 2,
   "id": "44749cc3",
   "metadata": {},
   "outputs": [],
   "source": [
    "import numpy as np"
   ]
  },
  {
   "cell_type": "code",
   "execution_count": 3,
   "id": "bc8d5808",
   "metadata": {},
   "outputs": [],
   "source": [
    "a = np.array([1, 2, 3])\n",
    "b = np.array([4, 5, 6])"
   ]
  },
  {
   "cell_type": "code",
   "execution_count": 9,
   "id": "3b44e52d",
   "metadata": {},
   "outputs": [
    {
     "name": "stdout",
     "output_type": "stream",
     "text": [
      "<class 'numpy.ndarray'>\n"
     ]
    }
   ],
   "source": [
    "print(type(a + b))"
   ]
  },
  {
   "cell_type": "code",
   "execution_count": null,
   "id": "b5202066",
   "metadata": {},
   "outputs": [],
   "source": [
    "print(a + b)"
   ]
  },
  {
   "cell_type": "code",
   "execution_count": 7,
   "id": "9b4d8217",
   "metadata": {},
   "outputs": [
    {
     "name": "stdout",
     "output_type": "stream",
     "text": [
      "[-3 -3 -3]\n",
      "[ 4 10 18]\n",
      "[0.25 0.4  0.5 ]\n"
     ]
    }
   ],
   "source": [
    "print(a-b)\n",
    "print(a*b)\n",
    "print(a/b)"
   ]
  },
  {
   "cell_type": "code",
   "execution_count": null,
   "id": "747d0992",
   "metadata": {},
   "outputs": [
    {
     "name": "stdout",
     "output_type": "stream",
     "text": [
      "<class 'numpy.ndarray'>\n",
      "[ True  True  True]\n",
      "[False False False]\n"
     ]
    }
   ],
   "source": [
    "# comparison\n",
    "\n",
    "print(a > b)\n",
    "print(a < b)\n",
    "print(a == b)"
   ]
  },
  {
   "cell_type": "code",
   "execution_count": 15,
   "id": "f7d60899",
   "metadata": {},
   "outputs": [
    {
     "name": "stdout",
     "output_type": "stream",
     "text": [
      "<class 'numpy.bool'>\n"
     ]
    }
   ],
   "source": [
    "ans = a > b\n",
    "print(type(ans[0]))"
   ]
  },
  {
   "cell_type": "code",
   "execution_count": 20,
   "id": "84b1d978",
   "metadata": {},
   "outputs": [
    {
     "name": "stdout",
     "output_type": "stream",
     "text": [
      "[False False  True]\n",
      "[ True False  True]\n",
      "[False  True False]\n"
     ]
    }
   ],
   "source": [
    "# logical operators\n",
    "\n",
    "# and , or , not\n",
    "\n",
    "x = np.array([True, False, True])\n",
    "y = np.array([False, False, True])\n",
    "\n",
    "print(np.logical_and(x, y))\n",
    "print(np.logical_or(x, y))\n",
    "print(np.logical_not(x))"
   ]
  },
  {
   "cell_type": "code",
   "execution_count": 22,
   "id": "f26bae7d",
   "metadata": {},
   "outputs": [
    {
     "name": "stdout",
     "output_type": "stream",
     "text": [
      "[0 0 1]\n",
      "[1 3 3]\n"
     ]
    }
   ],
   "source": [
    "# biwsise operators\n",
    "\n",
    "a = np.array([1, 2, 3])\n",
    "b = np.array([0, 1, 1])\n",
    "\n",
    "print(np.bitwise_and(a,b))\n",
    "print(np.bitwise_or(a,b))"
   ]
  },
  {
   "cell_type": "code",
   "execution_count": 26,
   "id": "ffd11a62",
   "metadata": {},
   "outputs": [
    {
     "name": "stdout",
     "output_type": "stream",
     "text": [
      "[1 6 2]\n",
      "[      1000 1280000000     810000]\n"
     ]
    }
   ],
   "source": [
    "# modulus and power\n",
    "\n",
    "a = np.array([10, 20, 30])\n",
    "b = np.array([3, 7, 4])\n",
    "\n",
    "print(np.mod(a, b))\n",
    "print(np.power(a, b))\n"
   ]
  },
  {
   "cell_type": "code",
   "execution_count": null,
   "id": "3ebc6b5f",
   "metadata": {},
   "outputs": [],
   "source": []
  }
 ],
 "metadata": {
  "kernelspec": {
   "display_name": "base",
   "language": "python",
   "name": "python3"
  },
  "language_info": {
   "codemirror_mode": {
    "name": "ipython",
    "version": 3
   },
   "file_extension": ".py",
   "mimetype": "text/x-python",
   "name": "python",
   "nbconvert_exporter": "python",
   "pygments_lexer": "ipython3",
   "version": "3.12.3"
  }
 },
 "nbformat": 4,
 "nbformat_minor": 5
}
